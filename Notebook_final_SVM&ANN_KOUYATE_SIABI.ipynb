{
 "cells": [
  {
   "cell_type": "code",
   "execution_count": 1,
   "metadata": {
    "_cell_guid": "b1076dfc-b9ad-4769-8c92-a6c4dae69d19",
    "_uuid": "8f2839f25d086af736a60e9eeb907d3b93b6e0e5",
    "execution": {
     "iopub.execute_input": "2021-11-21T12:09:49.540342Z",
     "iopub.status.busy": "2021-11-21T12:09:49.539983Z",
     "iopub.status.idle": "2021-11-21T12:09:49.627855Z",
     "shell.execute_reply": "2021-11-21T12:09:49.627091Z",
     "shell.execute_reply.started": "2021-11-21T12:09:49.540250Z"
    }
   },
   "outputs": [],
   "source": [
    "# This Python 3 environment comes with many helpful analytics libraries installed\n",
    "# It is defined by the kaggle/python Docker image: https://github.com/kaggle/docker-python\n",
    "# For example, here's several helpful packages to load\n",
    "\n",
    "import numpy as np # linear algebra\n",
    "import pandas as pd # data processing, CSV file I/O (e.g. pd.read_csv)\n",
    "\n",
    "# Input data files are available in the read-only \"../input/\" directory\n",
    "# For example, running this (by clicking run or pressing Shift+Enter) will list all files under the input directory\n",
    "\n",
    "import os\n",
    "for dirname, _, filenames in os.walk('/kaggle/input'):\n",
    "    for filename in filenames:\n",
    "        print(os.path.join(dirname, filename))\n",
    "\n",
    "# You can write up to 20GB to the current directory (/kaggle/working/) that gets preserved as output when you create a version using \"Save & Run All\" \n",
    "# You can also write temporary files to /kaggle/temp/, but they won't be saved outside of the current session"
   ]
  },
  {
   "cell_type": "code",
   "execution_count": 2,
   "metadata": {
    "execution": {
     "iopub.execute_input": "2021-11-21T12:09:49.630001Z",
     "iopub.status.busy": "2021-11-21T12:09:49.629748Z",
     "iopub.status.idle": "2021-11-21T12:09:49.634336Z",
     "shell.execute_reply": "2021-11-21T12:09:49.633280Z",
     "shell.execute_reply.started": "2021-11-21T12:09:49.629967Z"
    }
   },
   "outputs": [],
   "source": [
    "\n",
    "        #Columns\n",
    "\n",
    "# id - a unique identifier\n",
    "# context - the text of the Hindi/Tamil sample from which answers should be derived\n",
    "# question - the question, in Hindi/Tamil\n",
    "# answer_text (train only) - the answer to the question (manual annotation) (note: for test, this is what you are attempting to predict)\n",
    "# answer_start (train only) - the starting character in context for the answer (determined using substring match during data preparation)\n",
    "# language - whether the text in question is in Tamil or Hindi\n",
    "\n",
    "\n",
    "      #Colonnes\n",
    "    \n",
    "# id - un identifiant unique\n",
    "# context - le texte de l'échantillon en hindi/tamil à partir duquel les réponses doivent être dérivées\n",
    "# question - la question, en hindi/tamoul\n",
    "# answer_text (train only) - la réponse à la question (annotation manuelle) (note : pour le test, c'est ce que vous essayez de prédire)\n",
    "# answer_start (train only) - le caractère de départ dans le contexte de la réponse (déterminé en utilisant la correspondance des sous-chaînes pendant la préparation des données)\n",
    "# language - si le texte en question est en tamoul ou en hindi.\n"
   ]
  },
  {
   "cell_type": "markdown",
   "metadata": {},
   "source": [
    "## Importation des librairies"
   ]
  },
  {
   "cell_type": "code",
   "execution_count": 3,
   "metadata": {
    "execution": {
     "iopub.execute_input": "2021-11-21T12:09:49.636349Z",
     "iopub.status.busy": "2021-11-21T12:09:49.635942Z",
     "iopub.status.idle": "2021-11-21T12:09:59.724280Z",
     "shell.execute_reply": "2021-11-21T12:09:59.723574Z",
     "shell.execute_reply.started": "2021-11-21T12:09:49.636314Z"
    }
   },
   "outputs": [],
   "source": [
    "import pandas as pd\n",
    "import numpy as np\n",
    "import matplotlib.pyplot as plt\n",
    "import seaborn as sns\n",
    "\n",
    "import re\n",
    "import string\n",
    "import nltk\n",
    "from nltk.corpus import stopwords\n",
    "\n",
    "from transformers import pipeline\n",
    "\n",
    "import torch"
   ]
  },
  {
   "cell_type": "markdown",
   "metadata": {},
   "source": [
    "## Importation des bases de donées"
   ]
  },
  {
   "cell_type": "markdown",
   "metadata": {},
   "source": [
    "#### Test cuda"
   ]
  },
  {
   "cell_type": "code",
   "execution_count": 4,
   "metadata": {
    "execution": {
     "iopub.execute_input": "2021-11-21T12:09:59.725979Z",
     "iopub.status.busy": "2021-11-21T12:09:59.725734Z",
     "iopub.status.idle": "2021-11-21T12:09:59.785069Z",
     "shell.execute_reply": "2021-11-21T12:09:59.784386Z",
     "shell.execute_reply.started": "2021-11-21T12:09:59.725946Z"
    }
   },
   "outputs": [],
   "source": [
    "import torch  \n",
    "\n",
    "device = 'cuda' if torch.cuda.is_available() else 'cpu'\n",
    "device"
   ]
  },
  {
   "cell_type": "code",
   "execution_count": 5,
   "metadata": {
    "execution": {
     "iopub.execute_input": "2021-11-21T12:09:59.791164Z",
     "iopub.status.busy": "2021-11-21T12:09:59.790529Z",
     "iopub.status.idle": "2021-11-21T12:10:00.571480Z",
     "shell.execute_reply": "2021-11-21T12:10:00.570725Z",
     "shell.execute_reply.started": "2021-11-21T12:09:59.791125Z"
    }
   },
   "outputs": [],
   "source": [
    "train = pd.read_csv(\"../input/alldata/train.csv\")\n",
    "print('train set shape: ', train.shape)\n",
    "\n",
    "test = pd.read_csv(\"../input/alldata/test.csv\")\n",
    "print('Test set shape: ', test.shape)\n",
    "\n",
    "sample_submission = pd.read_csv(\"../input/alldata/sample_submission.csv\")\n",
    "print('Sample submission set shape: ', sample_submission.shape)"
   ]
  },
  {
   "cell_type": "code",
   "execution_count": 6,
   "metadata": {
    "execution": {
     "iopub.execute_input": "2021-11-21T12:10:00.573041Z",
     "iopub.status.busy": "2021-11-21T12:10:00.572783Z",
     "iopub.status.idle": "2021-11-21T12:10:00.594776Z",
     "shell.execute_reply": "2021-11-21T12:10:00.593986Z",
     "shell.execute_reply.started": "2021-11-21T12:10:00.573007Z"
    }
   },
   "outputs": [],
   "source": [
    "train.head()"
   ]
  },
  {
   "cell_type": "code",
   "execution_count": 7,
   "metadata": {
    "execution": {
     "iopub.execute_input": "2021-11-21T12:10:00.596365Z",
     "iopub.status.busy": "2021-11-21T12:10:00.596055Z",
     "iopub.status.idle": "2021-11-21T12:10:00.621046Z",
     "shell.execute_reply": "2021-11-21T12:10:00.620134Z",
     "shell.execute_reply.started": "2021-11-21T12:10:00.596331Z"
    }
   },
   "outputs": [],
   "source": [
    "train.info()"
   ]
  },
  {
   "cell_type": "code",
   "execution_count": 8,
   "metadata": {
    "execution": {
     "iopub.execute_input": "2021-11-21T12:10:00.622868Z",
     "iopub.status.busy": "2021-11-21T12:10:00.622500Z",
     "iopub.status.idle": "2021-11-21T12:10:00.638388Z",
     "shell.execute_reply": "2021-11-21T12:10:00.637716Z",
     "shell.execute_reply.started": "2021-11-21T12:10:00.622825Z"
    }
   },
   "outputs": [],
   "source": [
    "test.head()"
   ]
  },
  {
   "cell_type": "code",
   "execution_count": 9,
   "metadata": {
    "execution": {
     "iopub.execute_input": "2021-11-21T12:10:00.640009Z",
     "iopub.status.busy": "2021-11-21T12:10:00.639727Z",
     "iopub.status.idle": "2021-11-21T12:10:00.649959Z",
     "shell.execute_reply": "2021-11-21T12:10:00.649197Z",
     "shell.execute_reply.started": "2021-11-21T12:10:00.639975Z"
    }
   },
   "outputs": [],
   "source": [
    "test.info()"
   ]
  },
  {
   "cell_type": "code",
   "execution_count": 10,
   "metadata": {
    "execution": {
     "iopub.execute_input": "2021-11-21T12:10:00.652011Z",
     "iopub.status.busy": "2021-11-21T12:10:00.651224Z",
     "iopub.status.idle": "2021-11-21T12:10:00.665987Z",
     "shell.execute_reply": "2021-11-21T12:10:00.665210Z",
     "shell.execute_reply.started": "2021-11-21T12:10:00.651969Z"
    }
   },
   "outputs": [],
   "source": [
    "sample_submission.head()"
   ]
  },
  {
   "cell_type": "code",
   "execution_count": 11,
   "metadata": {
    "execution": {
     "iopub.execute_input": "2021-11-21T12:10:00.667492Z",
     "iopub.status.busy": "2021-11-21T12:10:00.667251Z",
     "iopub.status.idle": "2021-11-21T12:10:00.680246Z",
     "shell.execute_reply": "2021-11-21T12:10:00.679500Z",
     "shell.execute_reply.started": "2021-11-21T12:10:00.667460Z"
    }
   },
   "outputs": [],
   "source": [
    "sample_submission.info()"
   ]
  },
  {
   "cell_type": "code",
   "execution_count": 12,
   "metadata": {
    "execution": {
     "iopub.execute_input": "2021-11-21T12:10:00.683039Z",
     "iopub.status.busy": "2021-11-21T12:10:00.682849Z",
     "iopub.status.idle": "2021-11-21T12:10:00.695021Z",
     "shell.execute_reply": "2021-11-21T12:10:00.694165Z",
     "shell.execute_reply.started": "2021-11-21T12:10:00.683017Z"
    }
   },
   "outputs": [],
   "source": [
    "# Visualisation de la base avec la spécification de la langue \"hindi\"\n",
    "\n",
    "train[train.language == 'hindi'].head()"
   ]
  },
  {
   "cell_type": "code",
   "execution_count": 13,
   "metadata": {
    "execution": {
     "iopub.execute_input": "2021-11-21T12:10:00.696553Z",
     "iopub.status.busy": "2021-11-21T12:10:00.696157Z",
     "iopub.status.idle": "2021-11-21T12:10:00.712092Z",
     "shell.execute_reply": "2021-11-21T12:10:00.711344Z",
     "shell.execute_reply.started": "2021-11-21T12:10:00.696515Z"
    }
   },
   "outputs": [],
   "source": [
    "# Visualisation de la base avec la spécification de la langue \"hindi\"\n",
    "\n",
    "train[train.language == \"tamil\"].head()"
   ]
  },
  {
   "cell_type": "code",
   "execution_count": 14,
   "metadata": {
    "execution": {
     "iopub.execute_input": "2021-11-21T12:10:00.717081Z",
     "iopub.status.busy": "2021-11-21T12:10:00.716903Z",
     "iopub.status.idle": "2021-11-21T12:10:00.740291Z",
     "shell.execute_reply": "2021-11-21T12:10:00.739610Z",
     "shell.execute_reply.started": "2021-11-21T12:10:00.717059Z"
    }
   },
   "outputs": [],
   "source": [
    "# Définition du context suivant les langues\n",
    "\n",
    "tamil_context = train[train.language == 'tamil']['context'].str.cat(sep='\\n')\n",
    "hindi_context = train[train.language == 'hindi']['context'].str.cat(sep='\\n')"
   ]
  },
  {
   "cell_type": "code",
   "execution_count": 15,
   "metadata": {
    "execution": {
     "iopub.execute_input": "2021-11-21T12:10:00.741574Z",
     "iopub.status.busy": "2021-11-21T12:10:00.741325Z",
     "iopub.status.idle": "2021-11-21T12:10:03.487828Z",
     "shell.execute_reply": "2021-11-21T12:10:03.487103Z",
     "shell.execute_reply.started": "2021-11-21T12:10:00.741542Z"
    }
   },
   "outputs": [],
   "source": [
    "# Affichage de la longueur des caractères suivant les langues\n",
    "\n",
    "print(\n",
    "    '\\nlength of tamil characters : ', len(set(tamil_context)),\n",
    "    '\\nlength of hindi characters : ', len(set(hindi_context)),\n",
    "    '\\nlength of hindi & tamil characters : ', len(set(tamil_context) & set(hindi_context)),\n",
    "    '\\nlength of only tamil characters : ', len(set(tamil_context) - set(hindi_context)),\n",
    "    '\\nlength of only hindi characters : ', len(set(hindi_context) - set(tamil_context))\n",
    ")"
   ]
  },
  {
   "cell_type": "code",
   "execution_count": 16,
   "metadata": {
    "execution": {
     "iopub.execute_input": "2021-11-21T12:10:03.489224Z",
     "iopub.status.busy": "2021-11-21T12:10:03.488973Z",
     "iopub.status.idle": "2021-11-21T12:10:03.626438Z",
     "shell.execute_reply": "2021-11-21T12:10:03.625693Z",
     "shell.execute_reply.started": "2021-11-21T12:10:03.489189Z"
    }
   },
   "outputs": [],
   "source": [
    "train[\"language\"].value_counts(normalize=True).plot(kind='pie', autopct='%1.1f%%')"
   ]
  },
  {
   "cell_type": "code",
   "execution_count": 17,
   "metadata": {
    "execution": {
     "iopub.execute_input": "2021-11-21T12:10:03.628085Z",
     "iopub.status.busy": "2021-11-21T12:10:03.627732Z",
     "iopub.status.idle": "2021-11-21T12:10:19.168981Z",
     "shell.execute_reply": "2021-11-21T12:10:19.168184Z",
     "shell.execute_reply.started": "2021-11-21T12:10:03.628035Z"
    }
   },
   "outputs": [],
   "source": [
    "train.plot.scatter(x='id',y='answer_start') "
   ]
  },
  {
   "cell_type": "markdown",
   "metadata": {},
   "source": [
    "## Tokenisation des mots"
   ]
  },
  {
   "cell_type": "code",
   "execution_count": 18,
   "metadata": {
    "execution": {
     "iopub.execute_input": "2021-11-21T12:10:19.175385Z",
     "iopub.status.busy": "2021-11-21T12:10:19.172962Z",
     "iopub.status.idle": "2021-11-21T12:10:19.183638Z",
     "shell.execute_reply": "2021-11-21T12:10:19.182973Z",
     "shell.execute_reply.started": "2021-11-21T12:10:19.175342Z"
    }
   },
   "outputs": [],
   "source": [
    "def text_cleaner(text):\n",
    "    text = text.lower()\n",
    "    text = re.sub('\\[.*?\\]', '', text)\n",
    "    text = re.sub('https?://\\S+|www\\.\\S+', '', text)\n",
    "    text = re.sub('<.*?>+', '', text)\n",
    "    text = re.sub('[%s]' % re.escape(string.punctuation), '', text)\n",
    "    text = re.sub('\\n', '', text)\n",
    "    text = re.sub('\\w*\\d\\w*', '', text)\n",
    "    return text"
   ]
  },
  {
   "cell_type": "code",
   "execution_count": 19,
   "metadata": {
    "execution": {
     "iopub.execute_input": "2021-11-21T12:10:19.190577Z",
     "iopub.status.busy": "2021-11-21T12:10:19.188099Z",
     "iopub.status.idle": "2021-11-21T12:10:19.199939Z",
     "shell.execute_reply": "2021-11-21T12:10:19.199144Z",
     "shell.execute_reply.started": "2021-11-21T12:10:19.190524Z"
    }
   },
   "outputs": [],
   "source": [
    "def word_tokenizer(text):\n",
    "    tokenizer = nltk.tokenize.RegexpTokenizer(r'\\w+')\n",
    "    nopunc = text_cleaner(text)\n",
    "    tokenized_text = tokenizer.tokenize(nopunc)\n",
    "    # remove_stopwords = [w for w in tokenized_text if w not in stopwords.words('english')]\n",
    "    combined_text = ' '.join(tokenized_text)\n",
    "    return combined_text"
   ]
  },
  {
   "cell_type": "code",
   "execution_count": 20,
   "metadata": {
    "execution": {
     "iopub.execute_input": "2021-11-21T12:10:19.207135Z",
     "iopub.status.busy": "2021-11-21T12:10:19.204389Z",
     "iopub.status.idle": "2021-11-21T12:10:23.465156Z",
     "shell.execute_reply": "2021-11-21T12:10:23.464481Z",
     "shell.execute_reply.started": "2021-11-21T12:10:19.207094Z"
    }
   },
   "outputs": [],
   "source": [
    "train['tokenized_text'] = train['context'].apply(str).apply(lambda x: word_tokenizer(x))\n",
    "train['text_len'] = train['tokenized_text'].astype(str).apply(len)\n",
    "train['text_word_count'] = train['tokenized_text'].apply(lambda x: len(str(x).split()))\n",
    "\n",
    "train[['context', 'tokenized_text', 'text_len', 'text_word_count']].head(10)"
   ]
  },
  {
   "cell_type": "code",
   "execution_count": 21,
   "metadata": {
    "execution": {
     "iopub.execute_input": "2021-11-21T12:10:23.467831Z",
     "iopub.status.busy": "2021-11-21T12:10:23.466255Z",
     "iopub.status.idle": "2021-11-21T12:10:23.501775Z",
     "shell.execute_reply": "2021-11-21T12:10:23.501005Z",
     "shell.execute_reply.started": "2021-11-21T12:10:23.467783Z"
    }
   },
   "outputs": [],
   "source": [
    "test['tokenized_text'] = test['context'].apply(str).apply(lambda x: word_tokenizer(x))\n",
    "test['text_len'] = test['tokenized_text'].astype(str).apply(len)\n",
    "test['text_word_count'] = test['tokenized_text'].apply(lambda x: len(str(x).split()))\n",
    "\n",
    "test[['context', 'tokenized_text', 'text_len', 'text_word_count']]"
   ]
  },
  {
   "cell_type": "markdown",
   "metadata": {},
   "source": [
    "## Visualisation des données"
   ]
  },
  {
   "cell_type": "code",
   "execution_count": 22,
   "metadata": {
    "execution": {
     "iopub.execute_input": "2021-11-21T12:10:23.503450Z",
     "iopub.status.busy": "2021-11-21T12:10:23.503198Z",
     "iopub.status.idle": "2021-11-21T12:10:23.521152Z",
     "shell.execute_reply": "2021-11-21T12:10:23.520519Z",
     "shell.execute_reply.started": "2021-11-21T12:10:23.503417Z"
    }
   },
   "outputs": [],
   "source": [
    "train_groupby = train.groupby(by = ['language']).count()\n",
    "\n",
    "train_groupby"
   ]
  },
  {
   "cell_type": "code",
   "execution_count": 23,
   "metadata": {
    "execution": {
     "iopub.execute_input": "2021-11-21T12:10:23.522501Z",
     "iopub.status.busy": "2021-11-21T12:10:23.522183Z",
     "iopub.status.idle": "2021-11-21T12:10:23.528503Z",
     "shell.execute_reply": "2021-11-21T12:10:23.527860Z",
     "shell.execute_reply.started": "2021-11-21T12:10:23.522465Z"
    }
   },
   "outputs": [],
   "source": [
    "# Affichage de plage de colour\n",
    "sns.color_palette('pastel')"
   ]
  },
  {
   "cell_type": "code",
   "execution_count": 24,
   "metadata": {
    "execution": {
     "iopub.execute_input": "2021-11-21T12:10:23.530389Z",
     "iopub.status.busy": "2021-11-21T12:10:23.529787Z",
     "iopub.status.idle": "2021-11-21T12:10:23.888140Z",
     "shell.execute_reply": "2021-11-21T12:10:23.887461Z",
     "shell.execute_reply.started": "2021-11-21T12:10:23.530353Z"
    }
   },
   "outputs": [],
   "source": [
    "# créer des accessoires de texte\n",
    "textprops = dict(horizontalalignment = 'center',\n",
    "                 verticalalignment = 'top',\n",
    "                 rotation = 0,\n",
    "                 # rotation_mode = \"default\",\n",
    "                 rotation_mode = 'anchor',\n",
    "                 size = 14,\n",
    "                 # color = \"#81D8D0\",\n",
    "                 color = sns.color_palette('pastel')[-5],)\n",
    "\n",
    "\n",
    "\n",
    "\n",
    "\n",
    "# créer un camembert\n",
    "plt.figure(figsize=(6, 6))\n",
    "\n",
    "\n",
    "\n",
    "# configurer le camembert\n",
    "plt.pie(x = train_groupby.id,\n",
    "        labels = train_groupby.index,\n",
    "        colors = sns.color_palette('pastel')[2 : 3] + sns.color_palette('pastel')[-1 : ],\n",
    "        autopct = '%.2f%%',\n",
    "        # explode = (0.02, 0.02),\n",
    "        explode = [0.02] * 2,\n",
    "        startangle = 90,\n",
    "        pctdistance = 0.4,\n",
    "        labeldistance = 1.2,\n",
    "        textprops = textprops,)\n",
    "\n",
    "\n",
    "# configurer la legend camembert\n",
    "legend = plt.legend(title = 'Séparation des textes par langue source',\n",
    "                    title_fontsize = 'x-large',\n",
    "                    #loc = 'lower center',\n",
    "                    bbox_to_anchor = (0, -0.15, 0.5, 0.5),\n",
    "                    labels = ['HINDI', 'TAMIL'],\n",
    "                    labelcolor = sns.color_palette('pastel')[-5],\n",
    "                    fontsize = 'large',\n",
    "                    facecolor = '#F6F8ED',\n",
    "                    edgecolor = sns.color_palette('pastel')[7],)\n",
    "\n",
    "\n",
    "# changer la couleur de la légende du camembert\n",
    "plt.setp(legend.get_title(), color = sns.color_palette('pastel')[5])\n",
    "\n",
    "# affichage de circle\n",
    "centre_circle = plt.Circle((0,0),0.70,fc = 'white')\n",
    "fig = plt.gcf()\n",
    "fig.gca().add_artist(centre_circle)\n",
    "\n",
    "# afficher le camembert\n",
    "plt.show()"
   ]
  },
  {
   "cell_type": "code",
   "execution_count": 25,
   "metadata": {
    "execution": {
     "iopub.execute_input": "2021-11-21T12:10:23.889909Z",
     "iopub.status.busy": "2021-11-21T12:10:23.889502Z",
     "iopub.status.idle": "2021-11-21T12:10:23.898219Z",
     "shell.execute_reply": "2021-11-21T12:10:23.897408Z",
     "shell.execute_reply.started": "2021-11-21T12:10:23.889870Z"
    }
   },
   "outputs": [],
   "source": [
    "sns.color_palette('Paired')"
   ]
  },
  {
   "cell_type": "code",
   "execution_count": 26,
   "metadata": {
    "execution": {
     "iopub.execute_input": "2021-11-21T12:10:23.900132Z",
     "iopub.status.busy": "2021-11-21T12:10:23.899828Z",
     "iopub.status.idle": "2021-11-21T12:10:24.229152Z",
     "shell.execute_reply": "2021-11-21T12:10:24.228422Z",
     "shell.execute_reply.started": "2021-11-21T12:10:23.900094Z"
    }
   },
   "outputs": [],
   "source": [
    "plt.figure(figsize = (12, 6))\n",
    "\n",
    "sns.set_style('whitegrid')\n",
    "\n",
    "ax = sns.histplot(x = train.text_len.sort_values(ascending = False),\n",
    "                  bins = 100,\n",
    "                  hue = 'language',\n",
    "                  data = train,\n",
    "                  kde = True,\n",
    "                  element = 'step',\n",
    "                  palette = sns.color_palette('Paired')[9 : 10] + sns.color_palette('Paired')[1 : 2],\n",
    "                  legend = True,)\n",
    "\n",
    "ax.set(xlabel = 'longueur textes',\n",
    "       ylabel = 'count',\n",
    "       title = 'Distribution de la longueur du texte original',)\n",
    "\n",
    "legend = plt.legend(fontsize = 10,\n",
    "                    loc = 'upper right',\n",
    "                    title = 'Distinguer les échantillons par langue - Histogrammes',\n",
    "                    title_fontsize = 12,\n",
    "                    shadow = True,\n",
    "                    facecolor = 'white',\n",
    "                    labels = ['HINDI', 'TAMIL'],\n",
    "                    labelcolor = sns.color_palette('Paired')[0],)\n",
    "\n",
    "plt.setp(legend.get_title(),\n",
    "         color = sns.color_palette('Paired')[-4],)\n",
    "\n",
    "plt.show()"
   ]
  },
  {
   "cell_type": "code",
   "execution_count": 27,
   "metadata": {
    "execution": {
     "iopub.execute_input": "2021-11-21T12:10:24.230786Z",
     "iopub.status.busy": "2021-11-21T12:10:24.230351Z",
     "iopub.status.idle": "2021-11-21T12:10:24.557802Z",
     "shell.execute_reply": "2021-11-21T12:10:24.557079Z",
     "shell.execute_reply.started": "2021-11-21T12:10:24.230740Z"
    }
   },
   "outputs": [],
   "source": [
    "ax = plt.figure(figsize = (12, 6))\n",
    "\n",
    "sns.set_style('darkgrid')\n",
    "\n",
    "ax = sns.histplot(x = train.text_word_count.sort_values(ascending = False),\n",
    "                  bins = 100,\n",
    "                  hue = 'language',\n",
    "                  data = train,\n",
    "                  kde = True,\n",
    "                  element = 'step',\n",
    "                  palette = sns.color_palette('Paired')[5 : 6] + sns.color_palette('Paired')[7 : 8],)\n",
    "\n",
    "ax.set(xlabel = 'longueur des textes tokenize',\n",
    "       ylabel = 'count',\n",
    "       title = 'Distribution de la longueur du texte Tokenize',)\n",
    "\n",
    "legend = plt.legend(fontsize = 10,\n",
    "                    loc = 'upper right',\n",
    "                    title = 'Distinguer les échantillons par langue - Histogrammes',\n",
    "                    title_fontsize = 12,\n",
    "                    shadow = True,\n",
    "                    facecolor = 'white',\n",
    "                    labels = ['HINDI', 'TAMIL'],\n",
    "                    labelcolor = sns.color_palette('Paired')[4],)\n",
    "\n",
    "plt.setp(legend.get_title(),\n",
    "         color = sns.color_palette('Paired')[6],)\n",
    "\n",
    "plt.show()"
   ]
  },
  {
   "cell_type": "markdown",
   "metadata": {},
   "source": [
    "## Modeles "
   ]
  },
  {
   "cell_type": "markdown",
   "metadata": {},
   "source": [
    "### Modele1: Jaccard"
   ]
  },
  {
   "cell_type": "code",
   "execution_count": 28,
   "metadata": {
    "execution": {
     "iopub.execute_input": "2021-11-21T12:10:24.559461Z",
     "iopub.status.busy": "2021-11-21T12:10:24.559102Z",
     "iopub.status.idle": "2021-11-21T12:10:24.565305Z",
     "shell.execute_reply": "2021-11-21T12:10:24.564402Z",
     "shell.execute_reply.started": "2021-11-21T12:10:24.559426Z"
    }
   },
   "outputs": [],
   "source": [
    "def jaccard(str1, str2): \n",
    "    a = set(str1.lower().split()) \n",
    "    b = set(str2.lower().split())\n",
    "    c = a.intersection(b)\n",
    "    return float(len(c)) / (len(a) + len(b) - len(c))"
   ]
  },
  {
   "cell_type": "code",
   "execution_count": 29,
   "metadata": {
    "execution": {
     "iopub.execute_input": "2021-11-21T12:10:24.568479Z",
     "iopub.status.busy": "2021-11-21T12:10:24.567722Z",
     "iopub.status.idle": "2021-11-21T12:10:24.575197Z",
     "shell.execute_reply": "2021-11-21T12:10:24.574388Z",
     "shell.execute_reply.started": "2021-11-21T12:10:24.568273Z"
    }
   },
   "outputs": [],
   "source": [
    "def gen_answers(df):\n",
    "    a = []\n",
    "    for text in df['context']:\n",
    "        tokens = text.split()\n",
    "        nums = np.array([x.isnumeric() for x in tokens])\n",
    "        i = np.argmax(nums == 1)\n",
    "        a.append(' '.join(tokens[i:min(i+2, len(tokens))]))\n",
    "\n",
    "    return a"
   ]
  },
  {
   "cell_type": "code",
   "execution_count": 30,
   "metadata": {
    "execution": {
     "iopub.execute_input": "2021-11-21T12:10:24.577038Z",
     "iopub.status.busy": "2021-11-21T12:10:24.576647Z",
     "iopub.status.idle": "2021-11-21T12:10:25.065627Z",
     "shell.execute_reply": "2021-11-21T12:10:25.064862Z",
     "shell.execute_reply.started": "2021-11-21T12:10:24.577001Z"
    }
   },
   "outputs": [],
   "source": [
    "%%time\n",
    "train_ans = gen_answers(train)\n",
    "score = np.mean([jaccard(y_true, pred) for y_true, pred in zip(train['answer_text'].values, train_ans)])\n",
    "print(f'Average Jaccard Score: {score}')"
   ]
  },
  {
   "cell_type": "code",
   "execution_count": 31,
   "metadata": {
    "execution": {
     "iopub.execute_input": "2021-11-21T12:10:25.067082Z",
     "iopub.status.busy": "2021-11-21T12:10:25.066834Z",
     "iopub.status.idle": "2021-11-21T12:10:25.081265Z",
     "shell.execute_reply": "2021-11-21T12:10:25.080125Z",
     "shell.execute_reply.started": "2021-11-21T12:10:25.067048Z"
    }
   },
   "outputs": [],
   "source": [
    "%%time\n",
    "test_ans = gen_answers(test)\n",
    "submission = test[['id']]\n",
    "submission['PredictionString'] = test_ans\n",
    "submission.to_csv('submission.csv', index=False)"
   ]
  },
  {
   "cell_type": "code",
   "execution_count": 32,
   "metadata": {
    "execution": {
     "iopub.execute_input": "2021-11-21T12:10:25.083127Z",
     "iopub.status.busy": "2021-11-21T12:10:25.082856Z",
     "iopub.status.idle": "2021-11-21T12:10:25.095425Z",
     "shell.execute_reply": "2021-11-21T12:10:25.094722Z",
     "shell.execute_reply.started": "2021-11-21T12:10:25.083092Z"
    }
   },
   "outputs": [],
   "source": [
    "submission.head()"
   ]
  },
  {
   "cell_type": "markdown",
   "metadata": {},
   "source": [
    "### Modele 2 : bert-base-multilingual-cased-finetuned-squad"
   ]
  },
  {
   "cell_type": "code",
   "execution_count": 33,
   "metadata": {
    "execution": {
     "iopub.execute_input": "2021-11-21T12:10:25.096791Z",
     "iopub.status.busy": "2021-11-21T12:10:25.096488Z",
     "iopub.status.idle": "2021-11-21T12:10:46.727546Z",
     "shell.execute_reply": "2021-11-21T12:10:46.726802Z",
     "shell.execute_reply.started": "2021-11-21T12:10:25.096756Z"
    }
   },
   "outputs": [],
   "source": [
    "model = \"../input/bertbasemultilingualcasedfinetunedsquad/bert-base-multilingual-cased-finetuned-squad\"\n",
    "qna = pipeline('question-answering', model = model, tokenizer = model, device = 0)\n",
    "\n",
    "predictions = []\n",
    "\n",
    "for question, context in test[[\"question\", \"context\"]].to_numpy():\n",
    "    result = qna(context=context, question=question)\n",
    "    predictions.append(result[\"answer\"])"
   ]
  },
  {
   "cell_type": "code",
   "execution_count": 34,
   "metadata": {
    "execution": {
     "iopub.execute_input": "2021-11-21T12:10:46.729406Z",
     "iopub.status.busy": "2021-11-21T12:10:46.729150Z",
     "iopub.status.idle": "2021-11-21T12:10:46.744196Z",
     "shell.execute_reply": "2021-11-21T12:10:46.742656Z",
     "shell.execute_reply.started": "2021-11-21T12:10:46.729370Z"
    }
   },
   "outputs": [],
   "source": [
    "submission = pd.DataFrame()\n",
    "submission['id'] = test['id']\n",
    "submission['PredictionString'] = predictions\n",
    "submission.to_csv(\"submission2.csv\", index=None)\n",
    "\n",
    "submission.head()"
   ]
  },
  {
   "cell_type": "markdown",
   "metadata": {},
   "source": [
    "### Modele 3 : xlm-roberta-squad2/deepset/xlm-roberta-base-squad2"
   ]
  },
  {
   "cell_type": "code",
   "execution_count": 35,
   "metadata": {
    "execution": {
     "iopub.execute_input": "2021-11-21T12:10:46.745822Z",
     "iopub.status.busy": "2021-11-21T12:10:46.745496Z",
     "iopub.status.idle": "2021-11-21T12:11:07.196404Z",
     "shell.execute_reply": "2021-11-21T12:11:07.195640Z",
     "shell.execute_reply.started": "2021-11-21T12:10:46.745781Z"
    }
   },
   "outputs": [],
   "source": [
    "model = \"../input/xlm-roberta-squad2/deepset/xlm-roberta-base-squad2\"\n",
    "qna = pipeline('question-answering', model = model, tokenizer = model, device = 0)\n",
    "\n",
    "predictions = []\n",
    "\n",
    "for question, context in test[[\"question\", \"context\"]].to_numpy():\n",
    "    result = qna(context=context, question=question)\n",
    "    predictions.append(result[\"answer\"])"
   ]
  },
  {
   "cell_type": "code",
   "execution_count": 36,
   "metadata": {
    "execution": {
     "iopub.execute_input": "2021-11-21T12:11:07.197979Z",
     "iopub.status.busy": "2021-11-21T12:11:07.197741Z",
     "iopub.status.idle": "2021-11-21T12:11:07.212783Z",
     "shell.execute_reply": "2021-11-21T12:11:07.211832Z",
     "shell.execute_reply.started": "2021-11-21T12:11:07.197945Z"
    }
   },
   "outputs": [],
   "source": [
    "submission = pd.DataFrame()\n",
    "submission['id'] = test['id']\n",
    "submission['PredictionString'] = predictions\n",
    "submission.to_csv(\"submission3.csv\", index=None)\n",
    "\n",
    "submission.head()"
   ]
  },
  {
   "cell_type": "markdown",
   "metadata": {},
   "source": [
    "### Modele4 : xlm-roberta-squad2/deepset/xlm-roberta-large-squad2"
   ]
  },
  {
   "cell_type": "code",
   "execution_count": 37,
   "metadata": {
    "execution": {
     "iopub.execute_input": "2021-11-21T12:11:07.214548Z",
     "iopub.status.busy": "2021-11-21T12:11:07.214254Z",
     "iopub.status.idle": "2021-11-21T12:11:45.378507Z",
     "shell.execute_reply": "2021-11-21T12:11:45.377688Z",
     "shell.execute_reply.started": "2021-11-21T12:11:07.214509Z"
    }
   },
   "outputs": [],
   "source": [
    "# modele 3\n",
    "model = \"../input/xlm-roberta-squad2/deepset/xlm-roberta-large-squad2\"\n",
    "qna = pipeline('question-answering', model = model, tokenizer = model, device = 0)\n",
    "\n",
    "predictions = []\n",
    "\n",
    "for question, context in test[[\"question\", \"context\"]].to_numpy():\n",
    "    result = qna(context=context, question=question)\n",
    "    predictions.append(result[\"answer\"])"
   ]
  },
  {
   "cell_type": "code",
   "execution_count": 38,
   "metadata": {
    "execution": {
     "iopub.execute_input": "2021-11-21T12:11:45.380139Z",
     "iopub.status.busy": "2021-11-21T12:11:45.379833Z",
     "iopub.status.idle": "2021-11-21T12:11:45.399736Z",
     "shell.execute_reply": "2021-11-21T12:11:45.398881Z",
     "shell.execute_reply.started": "2021-11-21T12:11:45.380100Z"
    }
   },
   "outputs": [],
   "source": [
    "submission = pd.DataFrame()\n",
    "submission['id'] = test['id']\n",
    "submission['PredictionString'] = predictions\n",
    "submission.to_csv(\"submission4.csv\", index=None)\n",
    "\n",
    "submission.head()"
   ]
  },
  {
   "cell_type": "code",
   "execution_count": 39,
   "metadata": {
    "execution": {
     "iopub.execute_input": "2021-11-21T12:11:45.401598Z",
     "iopub.status.busy": "2021-11-21T12:11:45.401249Z",
     "iopub.status.idle": "2021-11-21T12:11:45.417304Z",
     "shell.execute_reply": "2021-11-21T12:11:45.416417Z",
     "shell.execute_reply.started": "2021-11-21T12:11:45.401557Z"
    }
   },
   "outputs": [],
   "source": [
    "submission = pd.DataFrame()\n",
    "submission['id'] = test['id']\n",
    "submission['PredictionString'] = predictions\n",
    "submission.to_csv(\"submission4.csv\", index=None)\n",
    "\n",
    "submission.head()"
   ]
  },
  {
   "cell_type": "code",
   "execution_count": null,
   "metadata": {},
   "outputs": [],
   "source": []
  },
  {
   "cell_type": "code",
   "execution_count": null,
   "metadata": {},
   "outputs": [],
   "source": []
  }
 ],
 "metadata": {
  "kernelspec": {
   "display_name": "Python 3",
   "language": "python",
   "name": "python3"
  },
  "language_info": {
   "codemirror_mode": {
    "name": "ipython",
    "version": 3
   },
   "file_extension": ".py",
   "mimetype": "text/x-python",
   "name": "python",
   "nbconvert_exporter": "python",
   "pygments_lexer": "ipython3",
   "version": "3.8.3"
  }
 },
 "nbformat": 4,
 "nbformat_minor": 4
}
